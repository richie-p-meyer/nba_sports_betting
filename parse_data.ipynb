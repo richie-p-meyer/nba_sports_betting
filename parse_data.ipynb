{
 "cells": [
  {
   "cell_type": "code",
   "execution_count": 1,
   "id": "f11822b1-a697-4711-973b-c55f1c982f99",
   "metadata": {},
   "outputs": [],
   "source": [
    "import os\n",
    "import pandas as pd\n",
    "\n",
    "SCORE_DIR = \"data/scores\""
   ]
  },
  {
   "cell_type": "code",
   "execution_count": 2,
   "id": "1659c028-02e4-4e56-b6dc-82efa70cc5ca",
   "metadata": {},
   "outputs": [],
   "source": [
    "box_scores = os.listdir(SCORE_DIR)\n",
    "box_scores = [os.path.join(SCORE_DIR, f) fo r f in box_scores if f.endswith(\".html\")]"
   ]
  },
  {
   "cell_type": "code",
   "execution_count": 3,
   "id": "50fe65c4-47df-432f-8a14-f8717e575074",
   "metadata": {},
   "outputs": [],
   "source": [
    "from bs4 import BeautifulSoup\n",
    "\n",
    "def parse_html(box_score):\n",
    "    with open(box_score) as f:\n",
    "        html = f.read()\n",
    "\n",
    "    soup = BeautifulSoup(html)\n",
    "    [s.decompose() for s in soup.select(\"tr.over_header\")]\n",
    "    [s.decompose() for s in soup.select(\"tr.thead\")]\n",
    "    return soup"
   ]
  },
  {
   "cell_type": "code",
   "execution_count": 4,
   "id": "085f57bf-91d8-462a-9997-6cf73a045058",
   "metadata": {},
   "outputs": [],
   "source": [
    "def read_season_info(soup):\n",
    "    nav = soup.select(\"#bottom_nav_container\")[0]\n",
    "    hrefs = [a[\"href\"] for a in nav.find_all('a')]\n",
    "    season = os.path.basename(hrefs[1]).split(\"_\")[0]\n",
    "    return season"
   ]
  },
  {
   "cell_type": "code",
   "execution_count": 5,
   "id": "48003645-4bbc-49d7-b30a-5747e751052d",
   "metadata": {},
   "outputs": [],
   "source": [
    "def read_line_score(soup):\n",
    "    line_score = pd.read_html(str(soup), attrs = {'id': 'line_score'})[0]\n",
    "    cols = list(line_score.columns)\n",
    "    cols[0] = \"team\"\n",
    "    cols[-1] = \"total\"\n",
    "    line_score.columns = cols\n",
    "    \n",
    "    line_score = line_score[[\"team\", \"total\"]]\n",
    "    \n",
    "    return line_score"
   ]
  },
  {
   "cell_type": "code",
   "execution_count": 6,
   "id": "4d8574e0-9703-4d10-9ca3-d56c1249b651",
   "metadata": {},
   "outputs": [],
   "source": [
    "def read_stats(soup, team, stat):\n",
    "    df = pd.read_html(str(soup), attrs = {'id': f'box-{team}-game-{stat}'}, index_col=0)[0]\n",
    "    df = df.apply(pd.to_numeric, errors=\"coerce\")\n",
    "    return df"
   ]
  },
  {
   "cell_type": "code",
   "execution_count": 7,
   "id": "256f1eab-22d4-4396-8e4f-b7fb1ed10b5e",
   "metadata": {},
   "outputs": [
    {
     "name": "stdout",
     "output_type": "stream",
     "text": [
      "100 / 8886\n",
      "200 / 8886\n",
      "300 / 8886\n",
      "400 / 8886\n",
      "500 / 8886\n",
      "600 / 8886\n",
      "700 / 8886\n",
      "800 / 8886\n",
      "900 / 8886\n",
      "1000 / 8886\n",
      "1100 / 8886\n",
      "1200 / 8886\n",
      "1300 / 8886\n",
      "1400 / 8886\n",
      "1500 / 8886\n",
      "1600 / 8886\n",
      "1700 / 8886\n",
      "1800 / 8886\n",
      "1900 / 8886\n",
      "2000 / 8886\n",
      "2100 / 8886\n",
      "2200 / 8886\n",
      "2300 / 8886\n",
      "2400 / 8886\n",
      "2500 / 8886\n",
      "2600 / 8886\n",
      "2700 / 8886\n",
      "2800 / 8886\n",
      "2900 / 8886\n",
      "3000 / 8886\n",
      "3100 / 8886\n",
      "3200 / 8886\n",
      "3300 / 8886\n",
      "3400 / 8886\n",
      "3500 / 8886\n",
      "3600 / 8886\n",
      "3700 / 8886\n",
      "3800 / 8886\n",
      "3900 / 8886\n",
      "4000 / 8886\n",
      "4100 / 8886\n",
      "4200 / 8886\n",
      "4300 / 8886\n",
      "4400 / 8886\n",
      "4500 / 8886\n",
      "4600 / 8886\n",
      "4700 / 8886\n",
      "4800 / 8886\n",
      "4900 / 8886\n",
      "5000 / 8886\n",
      "5100 / 8886\n",
      "5200 / 8886\n",
      "5300 / 8886\n",
      "5400 / 8886\n",
      "5500 / 8886\n",
      "5600 / 8886\n",
      "5700 / 8886\n",
      "5800 / 8886\n",
      "5900 / 8886\n",
      "6000 / 8886\n",
      "6100 / 8886\n",
      "6200 / 8886\n",
      "6300 / 8886\n",
      "6400 / 8886\n",
      "6500 / 8886\n",
      "6600 / 8886\n",
      "6700 / 8886\n",
      "6800 / 8886\n",
      "6900 / 8886\n",
      "7000 / 8886\n",
      "7100 / 8886\n",
      "7200 / 8886\n",
      "7300 / 8886\n",
      "7400 / 8886\n",
      "7500 / 8886\n",
      "7600 / 8886\n",
      "7700 / 8886\n",
      "7800 / 8886\n",
      "7900 / 8886\n",
      "8000 / 8886\n",
      "8100 / 8886\n",
      "8200 / 8886\n",
      "8300 / 8886\n",
      "8400 / 8886\n",
      "8500 / 8886\n",
      "8600 / 8886\n",
      "8700 / 8886\n",
      "8800 / 8886\n"
     ]
    }
   ],
   "source": [
    "games = []\n",
    "base_cols = None\n",
    "for box_score in box_scores:\n",
    "    soup = parse_html(box_score)\n",
    "\n",
    "    line_score = read_line_score(soup)\n",
    "    teams = list(line_score[\"team\"])\n",
    "\n",
    "    summaries = []\n",
    "    for team in teams:\n",
    "        basic = read_stats(soup, team, \"basic\")\n",
    "        advanced = read_stats(soup, team, \"advanced\")\n",
    "\n",
    "        totals = pd.concat([basic.iloc[-1,:], advanced.iloc[-1,:]])\n",
    "        totals.index = totals.index.str.lower()\n",
    "\n",
    "        maxes = pd.concat([basic.iloc[:-1].max(), advanced.iloc[:-1].max()])\n",
    "        maxes.index = maxes.index.str.lower() + \"_max\"\n",
    "\n",
    "        summary = pd.concat([totals, maxes])\n",
    "        \n",
    "        if base_cols is None:\n",
    "            base_cols = list(summary.index.drop_duplicates(keep=\"first\"))\n",
    "            base_cols = [b for b in base_cols if \"bpm\" not in b]\n",
    "        \n",
    "        summary = summary[base_cols]\n",
    "        \n",
    "        summaries.append(summary)\n",
    "    summary = pd.concat(summaries, axis=1).T\n",
    "\n",
    "    game = pd.concat([summary, line_score], axis=1)\n",
    "\n",
    "    game[\"home\"] = [0,1]\n",
    "\n",
    "    game_opp = game.iloc[::-1].reset_index()\n",
    "    game_opp.columns += \"_opp\"\n",
    "\n",
    "    full_game = pd.concat([game, game_opp], axis=1)\n",
    "    full_game[\"season\"] = read_season_info(soup)\n",
    "    \n",
    "    full_game[\"date\"] = os.path.basename(box_score)[:8]\n",
    "    full_game[\"date\"] = pd.to_datetime(full_game[\"date\"], format=\"%Y%m%d\")\n",
    "    \n",
    "    full_game[\"won\"] = full_game[\"total\"] > full_game[\"total_opp\"]\n",
    "    games.append(full_game)\n",
    "    \n",
    "    if len(games) % 100 == 0:\n",
    "        print(f\"{len(games)} / {len(box_scores)}\")"
   ]
  },
  {
   "cell_type": "code",
   "execution_count": 12,
   "id": "7e3a6bc3-764c-4839-92f9-92049bac9147",
   "metadata": {},
   "outputs": [],
   "source": [
    "games_df = pd.concat(games, ignore_index=True)"
   ]
  },
  {
   "cell_type": "code",
   "execution_count": null,
   "id": "3fbf90f0-ba16-451b-b8cc-84408d47900b",
   "metadata": {},
   "outputs": [],
   "source": [
    "games_df"
   ]
  },
  {
   "cell_type": "code",
   "execution_count": 14,
   "id": "92ca110e-a695-4425-98a6-6a485eef045f",
   "metadata": {},
   "outputs": [],
   "source": [
    "games_df.to_csv(\"nba_games.csv\")"
   ]
  },
  {
   "cell_type": "code",
   "execution_count": null,
   "id": "25ee031a-3377-4937-93f5-8260b8452b29",
   "metadata": {},
   "outputs": [],
   "source": []
  }
 ],
 "metadata": {
  "kernelspec": {
   "display_name": "Python 3 (ipykernel)",
   "language": "python",
   "name": "python3"
  },
  "language_info": {
   "codemirror_mode": {
    "name": "ipython",
    "version": 3
   },
   "file_extension": ".py",
   "mimetype": "text/x-python",
   "name": "python",
   "nbconvert_exporter": "python",
   "pygments_lexer": "ipython3",
   "version": "3.9.7"
  }
 },
 "nbformat": 4,
 "nbformat_minor": 5
}

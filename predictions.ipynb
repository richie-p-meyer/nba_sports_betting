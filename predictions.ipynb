{
 "cells": [
  {
   "cell_type": "code",
   "execution_count": 1,
   "id": "fa040e02",
   "metadata": {},
   "outputs": [],
   "source": [
    "import pandas as pd\n",
    "df = pd.read_csv('nba_games_updated.csv', index_col=0)\n",
    "df = df.sort_values(\"date\")\n",
    "df = df.reset_index(drop=True)\n",
    "del df[\"mp.1\"]\n",
    "del df[\"mp_opp.1\"]\n",
    "del df[\"index_opp\"]\n",
    "\n",
    "\n"
   ]
  },
  {
   "cell_type": "code",
   "execution_count": 2,
   "id": "d3a6fca2",
   "metadata": {},
   "outputs": [
    {
     "name": "stderr",
     "output_type": "stream",
     "text": [
      "/var/folders/fz/0282wvb93rn0lm_p0nscw1sm0000gn/T/ipykernel_20661/2923568783.py:7: SettingWithCopyWarning: \n",
      "A value is trying to be set on a copy of a slice from a DataFrame\n",
      "\n",
      "See the caveats in the documentation: https://pandas.pydata.org/pandas-docs/stable/user_guide/indexing.html#returning-a-view-versus-a-copy\n",
      "  df[\"target\"][pd.isnull(df[\"target\"])] = 2\n"
     ]
    }
   ],
   "source": [
    "def add_target(group):\n",
    "    group[\"target\"] = group[\"won\"].shift(-1)\n",
    "    return group\n",
    "\n",
    "df = df.groupby(\"team\", group_keys=False).apply(add_target)\n",
    "\n",
    "df[\"target\"][pd.isnull(df[\"target\"])] = 2\n",
    "df[\"target\"] = df[\"target\"].astype(int, errors=\"ignore\")\n",
    "\n",
    "nulls = pd.isnull(df).sum()\n",
    "nulls = nulls[nulls > 0]\n",
    "\n",
    "valid_columns = df.columns[~df.columns.isin(nulls.index)]\n",
    "df = df[valid_columns]"
   ]
  },
  {
   "cell_type": "code",
   "execution_count": 3,
   "id": "a15f8b8c",
   "metadata": {},
   "outputs": [
    {
     "data": {
      "text/plain": [
       "0    9699\n",
       "1    9695\n",
       "2      30\n",
       "Name: target, dtype: int64"
      ]
     },
     "execution_count": 3,
     "metadata": {},
     "output_type": "execute_result"
    }
   ],
   "source": [
    "df.target.value_counts()"
   ]
  },
  {
   "cell_type": "code",
   "execution_count": 4,
   "id": "881f4b06",
   "metadata": {},
   "outputs": [],
   "source": [
    "# from sklearn import datasets, ensemble\n",
    "\n",
    "\n",
    "# params = {\n",
    "#     \"n_estimators\": 500,\n",
    "#     \"max_depth\": 4,\n",
    "#     \"min_samples_split\": 5,\n",
    "#     \"learning_rate\": 0.01,\n",
    "#     \"loss\": \"squared_error\",\n",
    "# }\n",
    "\n",
    "# reg = ensemble.GradientBoostingRegressor(**params)"
   ]
  },
  {
   "cell_type": "code",
   "execution_count": 5,
   "id": "b4b9a6ee",
   "metadata": {},
   "outputs": [],
   "source": [
    "from sklearn.linear_model import RidgeClassifier\n",
    "from sklearn.feature_selection import SequentialFeatureSelector\n",
    "from sklearn.model_selection import TimeSeriesSplit\n",
    "from sklearn.ensemble import RandomForestClassifier\n",
    "\n",
    "rr = RidgeClassifier(alpha=1)\n",
    "\n",
    "rf = RandomForestClassifier(max_depth=3, max_samples = .4, n_estimators = 100)\n",
    "\n",
    "split = TimeSeriesSplit(n_splits=3)\n",
    "\n",
    "sfs = SequentialFeatureSelector(rf, \n",
    "                                n_features_to_select=30, \n",
    "                                direction=\"backward\",\n",
    "                                cv=split,\n",
    "                                n_jobs=1\n",
    "                               )"
   ]
  },
  {
   "cell_type": "code",
   "execution_count": 6,
   "id": "e455c7d5",
   "metadata": {},
   "outputs": [],
   "source": [
    "removed_columns = [\"season\", \"date\", \"won\", \"target\", \"team\", \"team_opp\"]\n",
    "selected_columns = df.columns[~df.columns.isin(removed_columns)]"
   ]
  },
  {
   "cell_type": "code",
   "execution_count": 7,
   "id": "b76c5d1c",
   "metadata": {},
   "outputs": [],
   "source": [
    "from sklearn.preprocessing import MinMaxScaler\n",
    "\n",
    "scaler = MinMaxScaler()\n",
    "df[selected_columns] = scaler.fit_transform(df[selected_columns])"
   ]
  },
  {
   "cell_type": "code",
   "execution_count": 8,
   "id": "688271f4",
   "metadata": {},
   "outputs": [],
   "source": [
    "def backtest(data, model, predictors, target, start=2, step=1):\n",
    "    all_predictions = []\n",
    "    \n",
    "    seasons = sorted(data[\"season\"].unique())\n",
    "    \n",
    "    for i in range(start, len(seasons), step):\n",
    "        season = seasons[i]\n",
    "        train = data[data[\"season\"] < season]\n",
    "        test = data[data[\"season\"] == season]\n",
    "        \n",
    "        model.fit(train[predictors], train[target])\n",
    "        \n",
    "        preds = model.predict(test[predictors])\n",
    "        preds = pd.Series(preds, index=test.index)\n",
    "        combined = pd.concat([test[target], preds], axis=1)\n",
    "        combined.columns = [\"actual\", \"prediction\"]\n",
    "        \n",
    "        all_predictions.append(combined)\n",
    "    return pd.concat(all_predictions)"
   ]
  },
  {
   "cell_type": "code",
   "execution_count": 9,
   "id": "babbe3fa",
   "metadata": {},
   "outputs": [],
   "source": [
    "df_rolling = df[list(selected_columns) + [\"won\", \"team\", \"season\"]]\n",
    "\n",
    "def find_team_averages(team):\n",
    "    rolling = team.rolling(10).mean()\n",
    "    return rolling\n",
    "\n",
    "df_rolling = df_rolling.groupby([\"team\", \"season\"], group_keys=False).apply(find_team_averages)\n",
    "\n",
    "rolling_cols = [f\"{col}_10\" for col in df_rolling.columns]\n",
    "df_rolling.columns = rolling_cols\n",
    "df = pd.concat([df, df_rolling], axis=1)\n",
    "\n",
    "df = df.dropna()"
   ]
  },
  {
   "cell_type": "code",
   "execution_count": 10,
   "id": "ae89133b",
   "metadata": {},
   "outputs": [],
   "source": [
    "def shift_col(team, col_name):\n",
    "    next_col = team[col_name].shift(-1)\n",
    "    return next_col\n",
    "\n",
    "def add_col(df, col_name):\n",
    "    return df.groupby(\"team\", group_keys=False).apply(lambda x: shift_col(x, col_name))\n",
    "\n",
    "df[\"home_next\"] = add_col(df, \"home\")\n",
    "df[\"team_opp_next\"] = add_col(df, \"team_opp\")\n",
    "df[\"date_next\"] = add_col(df, \"date\")\n",
    "\n",
    "full = df.merge(df[rolling_cols + [\"team_opp_next\", \"date_next\", \"team\"]], left_on=[\"team\", \"date_next\"], right_on=[\"team_opp_next\", \"date_next\"])\n"
   ]
  },
  {
   "cell_type": "code",
   "execution_count": 11,
   "id": "e6cb3840",
   "metadata": {},
   "outputs": [],
   "source": [
    "removed_columns = list(full.columns[full.dtypes == \"object\"]) + removed_columns\n",
    "selected_columns = full.columns[~full.columns.isin(removed_columns)]"
   ]
  },
  {
   "cell_type": "code",
   "execution_count": 12,
   "id": "326d13b5",
   "metadata": {},
   "outputs": [],
   "source": [
    "#Using saved pickle in next cell\n",
    "#sfs.fit(full[selected_columns], full[\"target\"])"
   ]
  },
  {
   "cell_type": "code",
   "execution_count": 13,
   "id": "16198bfe",
   "metadata": {},
   "outputs": [],
   "source": [
    "import pickle\n",
    "filename = 'rr_model.sav'\n",
    "#pickle.dump(sfs, open(filename, 'wb'))\n",
    "sfs = pickle.load(open(filename, 'rb'))"
   ]
  },
  {
   "cell_type": "code",
   "execution_count": 14,
   "id": "293754a7",
   "metadata": {},
   "outputs": [],
   "source": [
    "# Train rf 'forward'\n",
    "#sfs.fit(full[selected_columns], full[\"target\"])\n",
    "#import pickle\n",
    "#filename = 'rf_model.sav'\n",
    "#pickle.dump(sfs, open(filename, 'wb'))\n",
    "#sfs = pickle.load(open(filename, 'rb'))"
   ]
  },
  {
   "cell_type": "code",
   "execution_count": 15,
   "id": "756a9dd8",
   "metadata": {},
   "outputs": [],
   "source": [
    "predictors = list(selected_columns[sfs.get_support()])\n",
    "predictions = backtest(full, rr, predictors, 'target')"
   ]
  },
  {
   "cell_type": "code",
   "execution_count": 16,
   "id": "77170310",
   "metadata": {},
   "outputs": [
    {
     "data": {
      "text/plain": [
       "0.6384498615947852"
      ]
     },
     "execution_count": 16,
     "metadata": {},
     "output_type": "execute_result"
    }
   ],
   "source": [
    "from sklearn.metrics import accuracy_score\n",
    "accuracy_score(predictions[\"actual\"], predictions[\"prediction\"])"
   ]
  },
  {
   "cell_type": "code",
   "execution_count": 17,
   "id": "5e11cb3f",
   "metadata": {},
   "outputs": [],
   "source": [
    "# .6216 accuracy"
   ]
  },
  {
   "cell_type": "code",
   "execution_count": 18,
   "id": "4a703595",
   "metadata": {},
   "outputs": [],
   "source": [
    "next_game = pd.read_csv('next_game_30.csv',index_col=0)"
   ]
  },
  {
   "cell_type": "code",
   "execution_count": 19,
   "id": "e0843b59",
   "metadata": {},
   "outputs": [],
   "source": [
    "# Need to do this before merging into 'Full'\n",
    "df.team = df.team.str.replace('CHO','CHA').str.replace('PHO','PHX').str.replace('BRK','BKN')\n",
    "df.team_opp = df.team_opp.str.replace('CHO','CHA').str.replace('PHO','PHX').str.replace('BRK','BKN')\n",
    "df.team_opp_next = df.team_opp_next.str.replace('CHO','CHA').str.replace('PHO','PHX').str.replace('BRK','BKN')"
   ]
  },
  {
   "cell_type": "code",
   "execution_count": 20,
   "id": "ed3f2c2d",
   "metadata": {},
   "outputs": [],
   "source": [
    "next_30 = df[df.target==2]"
   ]
  },
  {
   "cell_type": "code",
   "execution_count": 21,
   "id": "3cb9664f",
   "metadata": {},
   "outputs": [],
   "source": [
    "make_pred = next_30.merge(next_game,how='left',on=['team'])"
   ]
  },
  {
   "cell_type": "code",
   "execution_count": 22,
   "id": "3622f6eb",
   "metadata": {},
   "outputs": [],
   "source": [
    "make_pred.home_next = make_pred.HOME\n",
    "make_pred.team_opp_next = make_pred.OPPONENT\n",
    "make_pred.date_next = make_pred.DATE\n",
    "\n",
    "del make_pred['DATE']\n",
    "del make_pred['OPPONENT']\n",
    "del make_pred['HOME']\n"
   ]
  },
  {
   "cell_type": "code",
   "execution_count": 23,
   "id": "ace2308a",
   "metadata": {},
   "outputs": [],
   "source": [
    "import numpy as np\n",
    "rows = df[df['target']==2].index\n",
    "df.loc[rows,['target','team','team_opp_next','date_next','home_next']] = np.array(make_pred[['target','team','team_opp_next','date_next','home_next']])"
   ]
  },
  {
   "cell_type": "code",
   "execution_count": 24,
   "id": "32369054",
   "metadata": {},
   "outputs": [],
   "source": [
    "full = df.merge(df[rolling_cols + [\"team_opp_next\", \"date_next\", \"team\"]],  left_on=[\"team\", \"date_next\"], right_on=[\"team_opp_next\", \"date_next\"])"
   ]
  },
  {
   "cell_type": "code",
   "execution_count": 25,
   "id": "901ff07a",
   "metadata": {},
   "outputs": [],
   "source": [
    "predictions = backtest(full, rr, predictors,'target')"
   ]
  },
  {
   "cell_type": "code",
   "execution_count": 26,
   "id": "9e092c5e",
   "metadata": {},
   "outputs": [],
   "source": [
    "ml = pd.concat([full,predictions],axis=1)"
   ]
  },
  {
   "cell_type": "code",
   "execution_count": 27,
   "id": "ce94cf8c",
   "metadata": {},
   "outputs": [
    {
     "data": {
      "text/html": [
       "<div>\n",
       "<style scoped>\n",
       "    .dataframe tbody tr th:only-of-type {\n",
       "        vertical-align: middle;\n",
       "    }\n",
       "\n",
       "    .dataframe tbody tr th {\n",
       "        vertical-align: top;\n",
       "    }\n",
       "\n",
       "    .dataframe thead th {\n",
       "        text-align: right;\n",
       "    }\n",
       "</style>\n",
       "<table border=\"1\" class=\"dataframe\">\n",
       "  <thead>\n",
       "    <tr style=\"text-align: right;\">\n",
       "      <th></th>\n",
       "      <th>date_next</th>\n",
       "      <th>team_x</th>\n",
       "      <th>team_y</th>\n",
       "      <th>prediction</th>\n",
       "    </tr>\n",
       "  </thead>\n",
       "  <tbody>\n",
       "    <tr>\n",
       "      <th>17104</th>\n",
       "      <td>2023-01-24</td>\n",
       "      <td>BOS</td>\n",
       "      <td>MIA</td>\n",
       "      <td>1.0</td>\n",
       "    </tr>\n",
       "    <tr>\n",
       "      <th>17105</th>\n",
       "      <td>2023-01-24</td>\n",
       "      <td>CHI</td>\n",
       "      <td>IND</td>\n",
       "      <td>1.0</td>\n",
       "    </tr>\n",
       "    <tr>\n",
       "      <th>17089</th>\n",
       "      <td>2023-01-24</td>\n",
       "      <td>DAL</td>\n",
       "      <td>WAS</td>\n",
       "      <td>1.0</td>\n",
       "    </tr>\n",
       "    <tr>\n",
       "      <th>17098</th>\n",
       "      <td>2023-01-24</td>\n",
       "      <td>DEN</td>\n",
       "      <td>NOP</td>\n",
       "      <td>1.0</td>\n",
       "    </tr>\n",
       "    <tr>\n",
       "      <th>17088</th>\n",
       "      <td>2023-01-24</td>\n",
       "      <td>LAL</td>\n",
       "      <td>LAC</td>\n",
       "      <td>1.0</td>\n",
       "    </tr>\n",
       "    <tr>\n",
       "      <th>17093</th>\n",
       "      <td>2023-01-24</td>\n",
       "      <td>PHX</td>\n",
       "      <td>CHA</td>\n",
       "      <td>1.0</td>\n",
       "    </tr>\n",
       "    <tr>\n",
       "      <th>17102</th>\n",
       "      <td>2023-01-24</td>\n",
       "      <td>CHA</td>\n",
       "      <td>PHX</td>\n",
       "      <td>0.0</td>\n",
       "    </tr>\n",
       "    <tr>\n",
       "      <th>17077</th>\n",
       "      <td>2023-01-24</td>\n",
       "      <td>CLE</td>\n",
       "      <td>NYK</td>\n",
       "      <td>0.0</td>\n",
       "    </tr>\n",
       "    <tr>\n",
       "      <th>17076</th>\n",
       "      <td>2023-01-24</td>\n",
       "      <td>IND</td>\n",
       "      <td>CHI</td>\n",
       "      <td>0.0</td>\n",
       "    </tr>\n",
       "    <tr>\n",
       "      <th>17090</th>\n",
       "      <td>2023-01-24</td>\n",
       "      <td>LAC</td>\n",
       "      <td>LAL</td>\n",
       "      <td>0.0</td>\n",
       "    </tr>\n",
       "    <tr>\n",
       "      <th>17091</th>\n",
       "      <td>2023-01-24</td>\n",
       "      <td>MIA</td>\n",
       "      <td>BOS</td>\n",
       "      <td>0.0</td>\n",
       "    </tr>\n",
       "    <tr>\n",
       "      <th>17092</th>\n",
       "      <td>2023-01-24</td>\n",
       "      <td>NOP</td>\n",
       "      <td>DEN</td>\n",
       "      <td>0.0</td>\n",
       "    </tr>\n",
       "    <tr>\n",
       "      <th>17101</th>\n",
       "      <td>2023-01-24</td>\n",
       "      <td>NYK</td>\n",
       "      <td>CLE</td>\n",
       "      <td>0.0</td>\n",
       "    </tr>\n",
       "    <tr>\n",
       "      <th>17074</th>\n",
       "      <td>2023-01-24</td>\n",
       "      <td>WAS</td>\n",
       "      <td>DAL</td>\n",
       "      <td>0.0</td>\n",
       "    </tr>\n",
       "  </tbody>\n",
       "</table>\n",
       "</div>"
      ],
      "text/plain": [
       "        date_next team_x team_y  prediction\n",
       "17104  2023-01-24    BOS    MIA         1.0\n",
       "17105  2023-01-24    CHI    IND         1.0\n",
       "17089  2023-01-24    DAL    WAS         1.0\n",
       "17098  2023-01-24    DEN    NOP         1.0\n",
       "17088  2023-01-24    LAL    LAC         1.0\n",
       "17093  2023-01-24    PHX    CHA         1.0\n",
       "17102  2023-01-24    CHA    PHX         0.0\n",
       "17077  2023-01-24    CLE    NYK         0.0\n",
       "17076  2023-01-24    IND    CHI         0.0\n",
       "17090  2023-01-24    LAC    LAL         0.0\n",
       "17091  2023-01-24    MIA    BOS         0.0\n",
       "17092  2023-01-24    NOP    DEN         0.0\n",
       "17101  2023-01-24    NYK    CLE         0.0\n",
       "17074  2023-01-24    WAS    DAL         0.0"
      ]
     },
     "execution_count": 27,
     "metadata": {},
     "output_type": "execute_result"
    }
   ],
   "source": [
    "import datetime\n",
    "today = str(datetime.date.today())\n",
    "ml[(ml.target==2) & (ml.date_next==today)][['date_next','team_x','team_y','prediction']].sort_values(['date_next','team_x']).sort_values('prediction',ascending=False)"
   ]
  },
  {
   "cell_type": "code",
   "execution_count": null,
   "id": "33048c26",
   "metadata": {},
   "outputs": [],
   "source": []
  },
  {
   "cell_type": "code",
   "execution_count": null,
   "id": "11952312",
   "metadata": {},
   "outputs": [],
   "source": []
  }
 ],
 "metadata": {
  "kernelspec": {
   "display_name": "Python 3 (ipykernel)",
   "language": "python",
   "name": "python3"
  },
  "language_info": {
   "codemirror_mode": {
    "name": "ipython",
    "version": 3
   },
   "file_extension": ".py",
   "mimetype": "text/x-python",
   "name": "python",
   "nbconvert_exporter": "python",
   "pygments_lexer": "ipython3",
   "version": "3.9.7"
  }
 },
 "nbformat": 4,
 "nbformat_minor": 5
}

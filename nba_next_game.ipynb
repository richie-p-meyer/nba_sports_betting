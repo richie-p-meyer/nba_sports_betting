{
 "cells": [
  {
   "cell_type": "code",
   "execution_count": null,
   "id": "da588850",
   "metadata": {},
   "outputs": [],
   "source": [
    "import pandas as pd\n",
    "import numpy as np\n",
    "from datetime import date\n",
    "from datetime import timedelta\n",
    "from datetime import datetime\n"
   ]
  },
  {
   "cell_type": "code",
   "execution_count": null,
   "id": "9ef435fb",
   "metadata": {},
   "outputs": [],
   "source": [
    "team_abr = {'Atlanta':'ATL','Brooklyn':'BKN','Boston':'BOS','Charlotte':'CHA','Chicago':'CHI','Cleveland':\n",
    "'CLE','Dallas':'DAL','Denver':'DEN','Detroit':'DET','Golden State':'GSW','Houston':'HOU','Indiana':'IND','LA':\n",
    "'LAC','Los Angeles':'LAL','Memphis':'MEM','Miami':'MIA','Milwaukee':'MIL','Minnesota':'MIN','New Orleans':'NOP',\n",
    "'New York':'NYK','Oklahoma City':'OKC','Orlando':'ORL','Philadelphia':'PHI','Phoenix':'PHX','Portland':'POR',\n",
    "'Sacramento':'SAC','San Antonio':'SAS','Toronto':'TOR','Utah':'UTA','Washington':'WAS'}\n",
    "\n",
    "teams = ['ATL','BKN','BOS','CHA','CHI','CLE','DAL','DEN','DET', 'GSW','HOU','IND','LAC','LAL','MEM',\n",
    "'MIA','MIL','MIN','NO','NYK','OKC', 'ORL','PHI','PHX','POR','SAC','SAS','TOR','UTAH','WAS']\n",
    "\n",
    "teams_abr = ['ATL','BKN','BOS','CHA','CHI','CLE','DAL','DEN','DET', 'GSW','HOU','IND','LAC','LAL','MEM',\n",
    "'MIA','MIL','MIN','NOP','NYK','OKC', 'ORL','PHI','PHX','POR','SAC','SAS','TOR','UTA','WAS']\n",
    "\n",
    "sched = []\n",
    "\n",
    "for t, ta in zip(teams, teams_abr):\n",
    "    df = pd.read_html(f'https://www.espn.com/nba/team/schedule/_/name/{t}',header = 0,parse_dates=True)[0]\n",
    "    df['team']= ta\n",
    "    df['HOME'] = np.where(df.OPPONENT.str.startswith('@'),0,1)\n",
    "\n",
    "    del df['RESULT']\n",
    "    del df['W-L']\n",
    "    del df['Hi Points']\n",
    "    del df['Hi Rebounds']\n",
    "    del df['Hi Assists']\n",
    "\n",
    "\n",
    "    # Filters 'OPPONENT' row and drops\n",
    "    filtered = df[df.OPPONENT =='OPPONENT'].index\n",
    "    df.drop(filtered,inplace=True)\n",
    "\n",
    "    # Formats opponent column\n",
    "    df.OPPONENT = df.OPPONENT.str.replace('@','').str.replace('vs','').str.strip().map(team_abr)\n",
    "\n",
    "    sched.append(df)\n",
    "\n",
    "df = pd.concat(sched)\n",
    "df.reset_index(drop=True,inplace=True)\n",
    "df.DATE = df.DATE.str[4:].str.strip()\n",
    "df['DATE']=pd.to_datetime(df['DATE']+' '+np.where(df['DATE'].str.startswith(('O','N','D')),2022,2023).astype('str'), format=\"%b %d %Y\")\n",
    "df.to_csv('next_game.csv')"
   ]
  },
  {
   "cell_type": "code",
   "execution_count": null,
   "id": "bf206f95",
   "metadata": {},
   "outputs": [],
   "source": [
    "df.shape"
   ]
  },
  {
   "cell_type": "code",
   "execution_count": null,
   "id": "99a574ef",
   "metadata": {},
   "outputs": [],
   "source": [
    "df.tail()"
   ]
  },
  {
   "cell_type": "markdown",
   "id": "d560f7e9",
   "metadata": {},
   "source": [
    "# Run all from here"
   ]
  },
  {
   "cell_type": "code",
   "execution_count": 1,
   "id": "a37a6d02",
   "metadata": {},
   "outputs": [],
   "source": [
    "import pandas as pd\n",
    "import numpy as np\n",
    "from datetime import date\n",
    "from datetime import timedelta\n",
    "from datetime import datetime"
   ]
  },
  {
   "cell_type": "code",
   "execution_count": 2,
   "id": "4a8bbe61",
   "metadata": {},
   "outputs": [],
   "source": [
    "df = pd.read_csv('next_game.csv',index_col=0)\n",
    "df.DATE = pd.to_datetime(df.DATE)\n",
    "df = df[df.DATE>=datetime.today() - timedelta(days = 1)]\n",
    "df = df.drop_duplicates(subset = 'team', keep='first')"
   ]
  },
  {
   "cell_type": "code",
   "execution_count": 3,
   "id": "392484c1",
   "metadata": {},
   "outputs": [],
   "source": [
    "df.to_csv('next_game_30.csv')"
   ]
  },
  {
   "cell_type": "code",
   "execution_count": null,
   "id": "5f478dfa",
   "metadata": {},
   "outputs": [],
   "source": [
    "df.shape"
   ]
  },
  {
   "cell_type": "code",
   "execution_count": null,
   "id": "a4cdc19e",
   "metadata": {},
   "outputs": [],
   "source": []
  }
 ],
 "metadata": {
  "kernelspec": {
   "display_name": "Python 3 (ipykernel)",
   "language": "python",
   "name": "python3"
  },
  "language_info": {
   "codemirror_mode": {
    "name": "ipython",
    "version": 3
   },
   "file_extension": ".py",
   "mimetype": "text/x-python",
   "name": "python",
   "nbconvert_exporter": "python",
   "pygments_lexer": "ipython3",
   "version": "3.9.7"
  }
 },
 "nbformat": 4,
 "nbformat_minor": 5
}
